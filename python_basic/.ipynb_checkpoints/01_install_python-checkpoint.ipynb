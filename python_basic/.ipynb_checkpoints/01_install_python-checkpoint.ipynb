{
 "cells": [
  {
   "cell_type": "markdown",
   "metadata": {},
   "source": [
    "<div class=\"alert alert-success alertsuccess\" style=\"margin-top: 5px\">\n",
    "    <h1><center>Python基础快速入门</center></h1>\n",
    "    <center>【1】Python的安装与配置</center>\n",
    "</div>"
   ]
  },
  {
   "cell_type": "markdown",
   "metadata": {},
   "source": [
    "---\n",
    "\n",
    "## 下载\n",
    "- 下载地址 Python 官网：https://www.python.org/\n",
    "\n",
    "\n",
    "<div><img src = \"https://github.com/CaoChensy/Data_with_python/blob/master/img/python_install.png?raw=true\", width = 520/></div>\n",
    "<center>△ Python Download</center>\n",
    "\n",
    "---\n",
    "\n",
    "### linux 安装 python\n",
    "\n",
    "- 通用方式\n",
    "    1. 打开WEB浏览器访问 https://www.python.org/downloads/source/\n",
    "    1. 选择适用于 Unix/Linux 的源码压缩包。\n",
    "    1. 下载及解压压缩包 Python-3.x.x.tgz，3.x.x 为你下载的对应版本号。\n",
    "    1. 在安装包文件夹使用`terminal`执行以下代码：\n",
    "\n",
    "        - ```# tar -zxvf Python-3.6.1.tgz```\n",
    "        - ```# cd Python-3.6.1```\n",
    "        - ```# ./configure```\n",
    "        - ```# make && make install```\n",
    "\n",
    "\n",
    "- ubuntu 安装 python3\n",
    "    1. 安装python3\n",
    "        - apt-get install python3\n",
    "    2. 安装pip3\n",
    "        - apt-get install python3-pip\n",
    "    3. 为python3添加包\n",
    "        - pip3 install XXX\n",
    "---\n",
    "\n",
    "### windows 安装 python\n",
    "\n",
    "1. 打开 WEB 浏览器访问 https://www.python.org/downloads/windows/ \n",
    "1. 一般就下载 executable installer；x86 表示是 32 位机子的安装包，x86-64 表示 64 位机子的安装包。\n",
    "1. 安装记得勾选 Add Python 3.6 to PATH。\n",
    "    \n",
    "<div><img src = \"https://github.com/CaoChensy/Data_with_python/blob/master/img/win_install.png?raw=true\", width = 520/></div>\n",
    "<center>△ Windows 安装 python</center>\n",
    "4. 按 Win+R 键，输入 cmd 调出命令提示符，输入 python:\n",
    "<div><img src = \"https://github.com/CaoChensy/Data_with_python/blob/master/img/win_cmd.png?raw=true\", width = 520/></div>\n",
    "<center>△ Windows CMD</center>\n",
    "5. 输入`exit()`退出。\n",
    "\n",
    "---\n",
    "\n",
    "### MAC 安装 python\n",
    "\n",
    "1. 你可以在链接 https://www.python.org/downloads/mac-osx/ 上下载最新版安装 Python 3.x。\n",
    "1. 默认安装，一直点下一步即可。"
   ]
  },
  {
   "cell_type": "markdown",
   "metadata": {},
   "source": [
    "---\n",
    "## 验证安装的Python版本\n",
    "注意在Jupyter Notebook中，命令行代码最前端需要加'!'(英文感叹号)。\n",
    "- python -V\n",
    "- python3 -V"
   ]
  },
  {
   "cell_type": "code",
   "execution_count": null,
   "metadata": {},
   "outputs": [],
   "source": [
    "!python -V"
   ]
  },
  {
   "cell_type": "code",
   "execution_count": null,
   "metadata": {},
   "outputs": [],
   "source": [
    "!python3 -V"
   ]
  },
  {
   "cell_type": "markdown",
   "metadata": {},
   "source": [
    "### 第一行代码"
   ]
  },
  {
   "cell_type": "code",
   "execution_count": null,
   "metadata": {
    "scrolled": true
   },
   "outputs": [],
   "source": [
    "print(\"Hello, World!\")"
   ]
  },
  {
   "cell_type": "markdown",
   "metadata": {},
   "source": [
    "---\n",
    "## 常用的 pip 操作"
   ]
  },
  {
   "cell_type": "markdown",
   "metadata": {},
   "source": [
    "```python\n",
    "!pip list                              # 查看安装的全部第三方库\n",
    "!pip install xxx                       # 安装第三方库\n",
    "!pip uninstall xxx                     # 卸载第三方库\n",
    "!pip install --upgrade xxx             # 升级第三方库\n",
    "!pip install xxx==1.0.1                # 安装某特定版本的第三方库\n",
    "!pip show xxx                          # 展示某第三方库的详细信息\n",
    "!pip search xxx                        # 在互联网上搜索某第三方库\n",
    "```"
   ]
  },
  {
   "cell_type": "code",
   "execution_count": null,
   "metadata": {},
   "outputs": [],
   "source": [
    "# !pip install jupyter notebook -i https://pypi.tuna.tsinghua.edu.cn/simple/"
   ]
  },
  {
   "cell_type": "code",
   "execution_count": null,
   "metadata": {
    "scrolled": false
   },
   "outputs": [],
   "source": [
    "!pip list"
   ]
  },
  {
   "cell_type": "markdown",
   "metadata": {},
   "source": [
    "---\n",
    "<h4>Editor: Chensy</h4>\n",
    "<h4>Email: chensy.cao@foxmail.com</h4>\n",
    "<div><img src = \"https://github.com/CaoChensy/Data_with_python/blob/master/img/person_wechat.jpg?raw=true\", width = 120/></div>\n",
    "<center>逝者如斯夫，不舍昼夜</center>"
   ]
  }
 ],
 "metadata": {
  "kernelspec": {
   "display_name": "Python 3",
   "language": "python",
   "name": "python3"
  },
  "language_info": {
   "codemirror_mode": {
    "name": "ipython",
    "version": 3
   },
   "file_extension": ".py",
   "mimetype": "text/x-python",
   "name": "python",
   "nbconvert_exporter": "python",
   "pygments_lexer": "ipython3",
   "version": "3.6.6"
  }
 },
 "nbformat": 4,
 "nbformat_minor": 2
}
